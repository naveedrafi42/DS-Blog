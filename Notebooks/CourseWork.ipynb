{
 "cells": [
  {
   "cell_type": "code",
   "execution_count": 34,
   "metadata": {},
   "outputs": [],
   "source": [
    "import pandas as pd\n",
    "import numpy as np"
   ]
  },
  {
   "cell_type": "code",
   "execution_count": 35,
   "metadata": {},
   "outputs": [],
   "source": [
    "df = pd.DataFrame({'A': ['bat', 'boo', 'bait'],\n",
    "                   'B': ['Missing_1', 'bar', 'Missing_2']})\n",
    "#df.replace(to_replace=r'ss', value=np.nan, regex=True)\n",
    "\n",
    "df.replace(to_replace=[\n",
    "    'Missing_1','Missing_2','Missing_3','Missing_4','Missing_5','Missing_6',\n",
    "    'Missing_7','Missing_8','Missing_9','Missing_10','Missing_11','Missing_12',\n",
    "    'Missing_13','Missing_14','Missing_15','Missing_16','Missing_17','Missing_18',\n",
    "    'Missing_19','Missing_20'\n",
    "], value=np.nan, inplace=True)"
   ]
  },
  {
   "cell_type": "code",
   "execution_count": 36,
   "metadata": {},
   "outputs": [],
   "source": [
    "df = df[df['B'].isna()]"
   ]
  },
  {
   "cell_type": "code",
   "execution_count": 37,
   "metadata": {},
   "outputs": [
    {
     "data": {
      "text/html": [
       "<div>\n",
       "<style scoped>\n",
       "    .dataframe tbody tr th:only-of-type {\n",
       "        vertical-align: middle;\n",
       "    }\n",
       "\n",
       "    .dataframe tbody tr th {\n",
       "        vertical-align: top;\n",
       "    }\n",
       "\n",
       "    .dataframe thead th {\n",
       "        text-align: right;\n",
       "    }\n",
       "</style>\n",
       "<table border=\"1\" class=\"dataframe\">\n",
       "  <thead>\n",
       "    <tr style=\"text-align: right;\">\n",
       "      <th></th>\n",
       "      <th>A</th>\n",
       "      <th>B</th>\n",
       "    </tr>\n",
       "  </thead>\n",
       "  <tbody>\n",
       "    <tr>\n",
       "      <td>0</td>\n",
       "      <td>bat</td>\n",
       "      <td>NaN</td>\n",
       "    </tr>\n",
       "    <tr>\n",
       "      <td>2</td>\n",
       "      <td>bait</td>\n",
       "      <td>NaN</td>\n",
       "    </tr>\n",
       "  </tbody>\n",
       "</table>\n",
       "</div>"
      ],
      "text/plain": [
       "      A    B\n",
       "0   bat  NaN\n",
       "2  bait  NaN"
      ]
     },
     "execution_count": 37,
     "metadata": {},
     "output_type": "execute_result"
    }
   ],
   "source": [
    "df"
   ]
  },
  {
   "cell_type": "code",
   "execution_count": 38,
   "metadata": {},
   "outputs": [
    {
     "ename": "SyntaxError",
     "evalue": "unexpected EOF while parsing (<ipython-input-38-960772f017a8>, line 51)",
     "output_type": "error",
     "traceback": [
      "\u001b[0;36m  File \u001b[0;32m\"<ipython-input-38-960772f017a8>\"\u001b[0;36m, line \u001b[0;32m51\u001b[0m\n\u001b[0;31m    if __name__ == '__main__':\u001b[0m\n\u001b[0m                              ^\u001b[0m\n\u001b[0;31mSyntaxError\u001b[0m\u001b[0;31m:\u001b[0m unexpected EOF while parsing\n"
     ]
    }
   ],
   "source": [
    "#!/bin/python3\n",
    "\n",
    "import math\n",
    "import os\n",
    "import random\n",
    "import re\n",
    "import sys\n",
    "\n",
    "\n",
    "\n",
    "#\n",
    "# Complete the 'calcMissing' function below.\n",
    "#\n",
    "# The function accepts STRING_ARRAY readings as parameter.\n",
    "#\n",
    "import pandas as pd\n",
    "import numpy as np\n",
    "\n",
    "\n",
    "def calcMissing(readings):\n",
    "    # Write your code here\n",
    "    \n",
    "    # Read input into pandas\n",
    "    df = pd.DataFrame(\n",
    "        columns=['timestamp', 'reading'],\n",
    "        data=[sub.split(\"\\t\") for sub in readings])\n",
    "    \n",
    "    # Replace missing values with NaN\n",
    "    df.replace(to_replace=r'ss', value=np.NaN, regex=True, inplace=True)\n",
    "\n",
    "    # Get a list of indices that are going to get imputed for retrieval later\n",
    "    df_indices = list(df[df['reading'].isna()].index.values)\n",
    "\n",
    "    # Convert the reading into a numeric data type\n",
    "    df[\"reading\"] = pd.to_numeric(df[\"reading\"])\n",
    "    \n",
    "    # Use a basic linear interpolation method\n",
    "    df = df.interpolate(method='linear')\n",
    "\n",
    "    # Get a subset of data that has been imputed\n",
    "    df_res = df[df.index.isin(df_indices)]\n",
    "\n",
    "    # Get list of imputed reading\n",
    "    res_list = list(df_res['reading'])\n",
    "    \n",
    "    # Print the imputations\n",
    "    for item in res_list:\n",
    "        print(item)\n",
    "\n",
    "\n",
    "if __name__ == '__main__':"
   ]
  },
  {
   "cell_type": "code",
   "execution_count": null,
   "metadata": {},
   "outputs": [],
   "source": []
  },
  {
   "cell_type": "code",
   "execution_count": null,
   "metadata": {},
   "outputs": [],
   "source": []
  }
 ],
 "metadata": {
  "kernelspec": {
   "display_name": "Python 3",
   "language": "python",
   "name": "python3"
  },
  "language_info": {
   "codemirror_mode": {
    "name": "ipython",
    "version": 3
   },
   "file_extension": ".py",
   "mimetype": "text/x-python",
   "name": "python",
   "nbconvert_exporter": "python",
   "pygments_lexer": "ipython3",
   "version": "3.7.4"
  }
 },
 "nbformat": 4,
 "nbformat_minor": 4
}
